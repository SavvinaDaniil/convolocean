{
 "cells": [
  {
   "cell_type": "code",
   "execution_count": 1,
   "metadata": {},
   "outputs": [],
   "source": [
    "import pickle\n",
    "import pandas as pd\n",
    "import glob\n",
    "from PIL import Image"
   ]
  },
  {
   "cell_type": "code",
   "execution_count": 2,
   "metadata": {},
   "outputs": [],
   "source": [
    "train_img = []\n",
    "train_lbs = []\n",
    "\n",
    "test_img = []\n",
    "\n",
    "train_fname = []\n",
    "test_fname = []"
   ]
  },
  {
   "cell_type": "code",
   "execution_count": 11,
   "metadata": {},
   "outputs": [
    {
     "name": "stdout",
     "output_type": "stream",
     "text": [
      "Initial_Model.ipynb         data_loader_to_pickle.ipynb\r\n",
      "Untitled.ipynb              \u001b[34mpickle\u001b[m\u001b[m\r\n",
      "\u001b[34mall\u001b[m\u001b[m                         \u001b[34mtsiboukis code\u001b[m\u001b[m\r\n"
     ]
    }
   ],
   "source": [
    "!ls"
   ]
  },
  {
   "cell_type": "code",
   "execution_count": 12,
   "metadata": {},
   "outputs": [
    {
     "data": {
      "text/plain": [
       "PIL.Image.Image"
      ]
     },
     "execution_count": 12,
     "metadata": {},
     "output_type": "execute_result"
    }
   ],
   "source": [
    "test = Image.open('all/train_images/2.jpg').copy()\n",
    "type(test)"
   ]
  },
  {
   "cell_type": "code",
   "execution_count": 13,
   "metadata": {},
   "outputs": [],
   "source": [
    "labels = pd.read_csv('all/train_onelabel.csv')\n",
    "labels_dict = labels.set_index('image')['class'].to_dict()"
   ]
  },
  {
   "cell_type": "code",
   "execution_count": 14,
   "metadata": {},
   "outputs": [],
   "source": [
    "for file in labels['image'].values:\n",
    "    train_img.append(Image.open('all/train_images/'+file).copy())\n",
    "    train_lbs.append(labels_dict[file])\n",
    "    train_fname.append(file)"
   ]
  },
  {
   "cell_type": "code",
   "execution_count": null,
   "metadata": {},
   "outputs": [],
   "source": [
    "for file in glob.iglob('all/test_images/*'):\n",
    "    image = Image.open(file).copy()\n",
    "    test_img.append(image)\n",
    "    test_fname.append(file.replace('all/test_images/',''))"
   ]
  },
  {
   "cell_type": "code",
   "execution_count": 16,
   "metadata": {},
   "outputs": [],
   "source": [
    "pickle.dump(train_img, open(\"pickle/train_img.pkl\", 'wb'))\n",
    "pickle.dump(train_lbs, open(\"pickle/train_lbs.pkl\", 'wb'))\n",
    "pickle.dump(test_img, open(\"pickle/test_img.pkl\", 'wb'))\n",
    "pickle.dump(train_fname, open(\"pickle/train_fname.pkl\", 'wb'))\n",
    "pickle.dump(test_fname, open(\"pickle/test_fname.pkl\", 'wb'))"
   ]
  },
  {
   "cell_type": "code",
   "execution_count": 15,
   "metadata": {},
   "outputs": [
    {
     "data": {
      "image/png": "[encoded data removed]",
      "text/plain": [
       "<PIL.Image.Image image mode=L size=63x94 at 0x10860F0B8>"
      ]
     },
     "execution_count": 15,
     "metadata": {},
     "output_type": "execute_result"
    }
   ],
   "source": [
    "test_fname[4]\n",
    "test_img[4]"
   ]
  },
  {
   "cell_type": "code",
   "execution_count": 16,
   "metadata": {},
   "outputs": [],
   "source": [
    "pickle.dump(test_img, open(\"pickle/test_img.pkl\", 'wb'))\n",
    "pickle.dump(test_fname, open(\"pickle/test_fname.pkl\", 'wb'))"
   ]
  }
 ],
 "metadata": {
  "kernelspec": {
   "display_name": "Python 3",
   "language": "python",
   "name": "python3"
  },
  "language_info": {
   "codemirror_mode": {
    "name": "ipython",
    "version": 3
   },
   "file_extension": ".py",
   "mimetype": "text/x-python",
   "name": "python",
   "nbconvert_exporter": "python",
   "pygments_lexer": "ipython3",
   "version": "3.6.5"
  }
 },
 "nbformat": 4,
 "nbformat_minor": 2
}
