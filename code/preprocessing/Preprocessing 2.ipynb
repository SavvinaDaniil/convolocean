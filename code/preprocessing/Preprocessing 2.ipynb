{
 "cells": [
  {
   "cell_type": "code",
   "execution_count": 1,
   "metadata": {},
   "outputs": [],
   "source": [
    "import pickle\n",
    "from PIL import Image\n",
    "import numpy as np\n",
    "train_path = r\"C:\\Users\\user\\Desktop\\UVA\\AML\\KAGGLE\"\n",
    "import PIL\n",
    "from __future__ import print_function, division\n",
    "import os\n",
    "import torch\n",
    "import pandas as pd\n",
    "from skimage import io, transform\n",
    "import matplotlib.pyplot as plt\n",
    "from torchvision import transforms, utils\n",
    "\n",
    "import warnings\n",
    "warnings.filterwarnings(\"ignore\")\n"
   ]
  },
  {
   "cell_type": "code",
   "execution_count": 2,
   "metadata": {},
   "outputs": [],
   "source": [
    "train_img = pickle.load(open(train_path+r\"\\train_img.pkl\",\"rb\"))"
   ]
  },
  {
   "cell_type": "code",
   "execution_count": 3,
   "metadata": {},
   "outputs": [],
   "source": [
    "labels=pickle.load(open(r\"C:\\Users\\user\\Desktop\\UVA\\AML\\KAGGLE\\train_lbs.pkl\",\"rb\"))\n"
   ]
  },
  {
   "cell_type": "code",
   "execution_count": 4,
   "metadata": {},
   "outputs": [
    {
     "name": "stdout",
     "output_type": "stream",
     "text": [
      "{0, 1, 2, 3, 4, 5, 6, 7, 8, 9, 10, 11, 12, 13, 14, 15, 16, 17, 18, 19, 20, 21, 22, 23, 24, 25, 26, 27, 28, 29, 30, 31, 32, 33, 34, 35, 36, 37, 38, 39, 40, 41, 42, 43, 44, 45, 46, 47, 48, 49, 50, 51, 52, 53, 54, 55, 56, 57, 58, 59, 60, 61, 62, 63, 64, 65, 66, 67, 68, 69, 70, 71, 72, 73, 74, 75, 76, 77, 78, 79, 80, 81, 82, 83, 84, 85, 86, 87, 88, 89, 90, 91, 92, 93, 94, 95, 96, 97, 98, 99, 100, 101, 102, 103, 104, 105, 106, 107, 108, 109, 110, 111, 112, 113, 114, 115, 116, 117, 118, 119, 120}\n"
     ]
    }
   ],
   "source": [
    "print(set(labels))"
   ]
  },
  {
   "cell_type": "markdown",
   "metadata": {},
   "source": [
    "First, we create two functions to help us go easily from pickle to array and backwards"
   ]
  },
  {
   "cell_type": "code",
   "execution_count": 5,
   "metadata": {},
   "outputs": [],
   "source": [
    "def pickleToArray(images):\n",
    "    proc_arrays=[]\n",
    "    for i in range(len(images)):\n",
    "        proc_arrays.append(np.array(images[i]))\n",
    "    proc_arrays=np.array(proc_arrays) \n",
    "    return proc_arrays"
   ]
  },
  {
   "cell_type": "code",
   "execution_count": 6,
   "metadata": {},
   "outputs": [],
   "source": [
    "def arrayToPickle(images):\n",
    "    proc_pickle=[]\n",
    "    for i in range(len(images)):\n",
    "        proc_pickle.append(PIL.Image.fromarray(images[i]))\n",
    "    return proc_pickle"
   ]
  },
  {
   "cell_type": "markdown",
   "metadata": {},
   "source": [
    "# Rescale and Random Cropping"
   ]
  },
  {
   "cell_type": "code",
   "execution_count": 7,
   "metadata": {},
   "outputs": [],
   "source": [
    "class Rescale(object):\n",
    "    def __init__(self, output_size):\n",
    "        assert isinstance(output_size, tuple)\n",
    "        self.output_size = output_size\n",
    "\n",
    "    def __call__(self, image):\n",
    "        h, w = np.array(image).shape\n",
    "        new_h, new_w = self.output_size\n",
    "        img = image.resize((new_h, new_w),Image.ANTIALIAS)\n",
    "        return img\n",
    "\n",
    "#Above is basically what you ve already done but with a more beautiful way :-P \n",
    "class RandomCrop(object):\n",
    "    def __init__(self, output_size):\n",
    "        assert isinstance(output_size, tuple)\n",
    "        self.output_size = output_size\n",
    "\n",
    "    def __call__(self, image):\n",
    "        image=np.array(image)\n",
    "        h, w = image.shape\n",
    "        new_h, new_w = self.output_size\n",
    "        top = np.random.randint(0, h - new_h)\n",
    "        left = np.random.randint(0, w - new_w)\n",
    "\n",
    "        image = image[top: top + new_h,\n",
    "                      left: left + new_w]\n",
    "        return PIL.Image.fromarray(image)\n",
    "#Not sure if random cropping is good, maybe it's better if it is specific around there where there's significant difference"
   ]
  },
  {
   "cell_type": "markdown",
   "metadata": {},
   "source": [
    "# Overall Procedure\n",
    "## 1.Rescaling\n",
    "We simply resize to (64,64).\n",
    "## 2.Standardizing\n",
    "We will standardize per pixel, which means substracting the mean and dividing by standard deviation of each pixel position.\n",
    "## 3.Flipping\n",
    "We will flip around the image to augment the data."
   ]
  },
  {
   "cell_type": "code",
   "execution_count": 8,
   "metadata": {},
   "outputs": [],
   "source": [
    "processed_train_img = []\n",
    "pr_labels=[]\n",
    "size=64\n",
    "i=0\n",
    "for image in train_img:\n",
    "    processed_train_img.append(Rescale((size,size))(image))\n",
    "    pr_labels.append(labels[i])\n",
    "    \n",
    "    i=i+1"
   ]
  },
  {
   "cell_type": "code",
   "execution_count": 9,
   "metadata": {},
   "outputs": [
    {
     "data": {
      "text/plain": [
       "24204"
      ]
     },
     "execution_count": 9,
     "metadata": {},
     "output_type": "execute_result"
    }
   ],
   "source": [
    "len(processed_train_img)"
   ]
  },
  {
   "cell_type": "code",
   "execution_count": 10,
   "metadata": {},
   "outputs": [],
   "source": [
    "proc_arrays=pickleToArray(processed_train_img)\n",
    "for i in range(64):\n",
    "    for j in range(64):\n",
    "        mean=np.mean(proc_arrays[:,i,j])\n",
    "        sdev=np.std(proc_arrays[:,i,j])\n",
    "        proc_arrays[:,i,j]=(proc_arrays[:,i,j]-mean)/sdev\n"
   ]
  },
  {
   "cell_type": "code",
   "execution_count": 11,
   "metadata": {},
   "outputs": [],
   "source": [
    "processed_train_img=arrayToPickle(proc_arrays)"
   ]
  },
  {
   "cell_type": "code",
   "execution_count": 12,
   "metadata": {},
   "outputs": [
    {
     "data": {
      "text/plain": [
       "24204"
      ]
     },
     "execution_count": 12,
     "metadata": {},
     "output_type": "execute_result"
    }
   ],
   "source": [
    "len(processed_train_img)"
   ]
  },
  {
   "cell_type": "code",
   "execution_count": 13,
   "metadata": {},
   "outputs": [],
   "source": [
    "def flip1(image):\n",
    "    return PIL.Image.fromarray(np.flip(np.array(image),0))\n",
    "def flip2(image):\n",
    "    return PIL.Image.fromarray(np.flip(np.array(image),1))\n",
    "def flip3(image):\n",
    "    return PIL.Image.fromarray(np.flip(np.flip(np.array(image),0),1))\n"
   ]
  },
  {
   "cell_type": "code",
   "execution_count": 14,
   "metadata": {},
   "outputs": [],
   "source": [
    "n=len(processed_train_img)\n",
    "for i in range(n):\n",
    "    image=processed_train_img[i]\n",
    "    processed_train_img.append(flip1(image))\n",
    "    processed_train_img.append(flip2(image))\n",
    "    processed_train_img.append(flip3(image))\n",
    "    pr_labels.append(pr_labels[i])\n",
    "    pr_labels.append(pr_labels[i])\n",
    "    pr_labels.append(pr_labels[i])\n",
    "    \n",
    "    "
   ]
  },
  {
   "cell_type": "code",
   "execution_count": 15,
   "metadata": {},
   "outputs": [
    {
     "data": {
      "text/plain": [
       "96816"
      ]
     },
     "execution_count": 15,
     "metadata": {},
     "output_type": "execute_result"
    }
   ],
   "source": [
    "len(processed_train_img)"
   ]
  },
  {
   "cell_type": "code",
   "execution_count": null,
   "metadata": {},
   "outputs": [],
   "source": [
    "pickle.dump( processed_train_img, open(r\"C:\\Users\\user\\Desktop\\UVA\\AML\\KAGGLE\\processed_train_images_2\\processed_train_images_2.pkl\", \"wb\" ) )\n"
   ]
  },
  {
   "cell_type": "code",
   "execution_count": null,
   "metadata": {},
   "outputs": [],
   "source": [
    "pickle.dump(pr_labels,open(r\"C:\\Users\\user\\Desktop\\UVA\\AML\\KAGGLE\\pr_labels\\pr_labels.pkl\",\"wb\"))"
   ]
  }
 ],
 "metadata": {
  "kernelspec": {
   "display_name": "Python 3",
   "language": "python",
   "name": "python3"
  },
  "language_info": {
   "codemirror_mode": {
    "name": "ipython",
    "version": 3
   },
   "file_extension": ".py",
   "mimetype": "text/x-python",
   "name": "python",
   "nbconvert_exporter": "python",
   "pygments_lexer": "ipython3",
   "version": "3.6.5"
  }
 },
 "nbformat": 4,
 "nbformat_minor": 2
}
