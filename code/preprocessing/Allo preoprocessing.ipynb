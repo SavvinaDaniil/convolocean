{
 "cells": [
  {
   "cell_type": "code",
   "execution_count": 23,
   "metadata": {},
   "outputs": [],
   "source": [
    "import pickle\n",
    "from PIL import Image\n",
    "import numpy as np\n",
    "train_path = r'C:\\Users\\user\\Desktop\\UVA\\AML\\KAGGLE\\initial_dataset'\"\\\\\"\n",
    "import PIL\n",
    "from __future__ import print_function, division\n",
    "import os\n",
    "import torch\n",
    "import pandas as pd\n",
    "from skimage import io, transform\n",
    "import matplotlib.pyplot as plt\n",
    "from torchvision import transforms, utils\n",
    "import warnings\n",
    "warnings.filterwarnings(\"ignore\")\n"
   ]
  },
  {
   "cell_type": "code",
   "execution_count": 24,
   "metadata": {},
   "outputs": [],
   "source": [
    "train_img = pickle.load(open(train_path+r\"train_images.pkl\",\"rb\"))\n",
    "test_img=pickle.load(open(train_path+r\"test_images.pkl\",\"rb\"))\n",
    "labels=pickle.load(open(train_path+r\"train_labels.pkl\",\"rb\"))\n",
    "test_labels=pickle.load(open(train_path+r\"test_labels.pkl\",\"rb\"))\n",
    "val_img=pickle.load(open(r\"C:\\Users\\user\\Desktop\\UVA\\AML\\KAGGLE\\test images\\pic_test_images\\pic_test_images.pkl\",\"rb\"))\n",
    "val_nam=pickle.load(open(r\"C:\\Users\\user\\Desktop\\UVA\\AML\\KAGGLE\\test images\\pic_test_images\\test_fname.pkl\",\"rb\"))"
   ]
  },
  {
   "cell_type": "code",
   "execution_count": 25,
   "metadata": {},
   "outputs": [],
   "source": [
    "def pickleToArray(images):\n",
    "    proc_arrays=[]\n",
    "    try:\n",
    "        for i in range(len(images)):\n",
    "            proc_arrays.append(np.array(images[i]))\n",
    "        proc_arrays=np.array(proc_arrays) \n",
    "        return proc_arrays\n",
    "    except:\n",
    "        return np.array(images)\n",
    "def arrayToPickle(images):\n",
    "    proc_pickle=[]\n",
    "    try:\n",
    "        for i in range(len(images)):\n",
    "            proc_pickle.append(PIL.Image.fromarray(images[i]))\n",
    "        return proc_pickle\n",
    "    except:\n",
    "        return PIL.Image.fromarray(images)"
   ]
  },
  {
   "cell_type": "code",
   "execution_count": 26,
   "metadata": {},
   "outputs": [],
   "source": [
    "class Rescale(object):\n",
    "    def __init__(self, output_size):\n",
    "        assert isinstance(output_size, tuple)\n",
    "        self.output_size = output_size\n",
    "\n",
    "    def __call__(self, image):\n",
    "        image=np.array(image)\n",
    "        h, w = image.shape\n",
    "        new_h, new_w = self.output_size\n",
    "        \n",
    "        maxim=max(h,w)\n",
    "        if (maxim-h) % 2 == 0:\n",
    "            lenpad1=int((maxim-h)/2)\n",
    "            lenpad2=lenpad1\n",
    "        else:\n",
    "            lenpad1=int((maxim-h+1)/2)\n",
    "            lenpad2=lenpad1-1\n",
    "        if (maxim-w)%2==0:\n",
    "            widpad1=int((maxim-w)/2)\n",
    "            widpad2=widpad1\n",
    "        else:\n",
    "            widpad1=int((maxim-w+1)/2)\n",
    "            widpad2=widpad1-1\n",
    "        img=PIL.Image.fromarray(np.pad(image,[(lenpad1,lenpad2),(widpad1,widpad2)],'constant',constant_values=255))\n",
    "        img = img.resize((new_h, new_w),Image.ANTIALIAS)\n",
    "        return img"
   ]
  },
  {
   "cell_type": "code",
   "execution_count": 27,
   "metadata": {},
   "outputs": [],
   "source": [
    "pr_train_img = []\n",
    "pr_test_img=[]\n",
    "pr_labels=[]\n",
    "pr_test_labels=[]\n",
    "pr_val_img=[]\n",
    "size=64\n",
    "i=0\n",
    "for image in train_img:\n",
    "    pr_train_img.append(Rescale((size,size))(image))\n",
    "    pr_labels.append(labels[i])\n",
    "    i+=1\n",
    "i=0\n",
    "for image in test_img:\n",
    "    pr_test_img.append(Rescale((size,size))(image))\n",
    "    pr_test_labels.append(test_labels[i])\n",
    "    i+=1\n",
    "for image in val_img:\n",
    "    pr_val_img.append(Rescale((size,size))(image))\n",
    "    \n",
    "    #if pickleToArray(image).shape[0]>64 and pickleToArray(image).shape[1]>64:\n",
    "     #   processed_train_img.extend(k for k in transforms.FiveCrop(64)(image) if pickleToArray(k).mean()>250)\n",
    "      #  while len(pr_labels)<len(processed_train_img):\n",
    "       #     pr_labels.append(labels[i])\n",
    "#for image in test_img:\n",
    " #   proc_test_img.append(Rescale((size,size))(image))"
   ]
  },
  {
   "cell_type": "code",
   "execution_count": 104,
   "metadata": {},
   "outputs": [],
   "source": [
    "#proc_arrays=pickleToArray(processed_train_img)\n",
    "#procc_arrays=pickleToArray(proc_test_img)\n",
    "#for i in range(64):\n",
    " #   for j in range(64):\n",
    "  #      mean=np.mean(proc_arrays[:,i,j])\n",
    "   #     sdev=np.std(proc_arrays[:,i,j])\n",
    "    #    proc_arrays[:,i,j]=(proc_arrays[:,i,j]-mean)/sdev\n",
    "     #   mean=np.mean(procc_arrays[:,i,j])\n",
    "      #  sdev=np.std(procc_arrays[:,i,j])\n",
    "       # procc_arrays[:,i,j]=(procc_arrays[:,i,j]-mean)/sdev"
   ]
  },
  {
   "cell_type": "code",
   "execution_count": 105,
   "metadata": {},
   "outputs": [],
   "source": [
    "#processed_train_img=arrayToPickle(proc_arrays)\n",
    "#proc_test_img=arrayToPickle(procc_arrays)"
   ]
  },
  {
   "cell_type": "code",
   "execution_count": 29,
   "metadata": {},
   "outputs": [],
   "source": [
    "def flip1(image):\n",
    "    return arrayToPickle(np.flip(np.array(image),0))\n",
    "def flip2(image):\n",
    "    return arrayToPickle(np.flip(np.array(image),1))\n",
    "def flip3(image):\n",
    "    return arrayToPickle(np.flip(np.flip(np.array(image),0),1))\n"
   ]
  },
  {
   "cell_type": "code",
   "execution_count": 30,
   "metadata": {},
   "outputs": [],
   "source": [
    "n=len(pr_train_img)\n",
    "for i in range(n):\n",
    "    image=pr_train_img[i]\n",
    "    pr_train_img.append(flip1(image))\n",
    "    pr_train_img.append(flip2(image))\n",
    "    pr_train_img.append(flip3(image))\n",
    "    pr_labels.extend(3*[pr_labels[i]])\n",
    "    \n",
    "    "
   ]
  },
  {
   "cell_type": "code",
   "execution_count": 31,
   "metadata": {},
   "outputs": [],
   "source": [
    "pickle.dump( pr_train_img, open(train_path+\"pr_train_images.pkl\", \"wb\" ) )\n",
    "pickle.dump(pr_labels,open(train_path+\"pr_labels.pkl\",\"wb\"))\n",
    "pickle.dump(pr_test_img,open(train_path+\"pr_test_img.pkl\",\"wb\"))\n",
    "pickle.dump(pr_test_labels,open(train_path+\"pr_test_labels.pkl\",\"wb\"))\n",
    "pickle.dump(pr_val_img,open(train_path+\"pr_val_img.pkl\",\"wb\"))\n",
    "pickle.dump(val_nam,open(train_path+\"val_nam.pkl\",\"wb\"))"
   ]
  }
 ],
 "metadata": {
  "kernelspec": {
   "display_name": "Python 3",
   "language": "python",
   "name": "python3"
  },
  "language_info": {
   "codemirror_mode": {
    "name": "ipython",
    "version": 3
   },
   "file_extension": ".py",
   "mimetype": "text/x-python",
   "name": "python",
   "nbconvert_exporter": "python",
   "pygments_lexer": "ipython3",
   "version": "3.6.5"
  }
 },
 "nbformat": 4,
 "nbformat_minor": 2
}
