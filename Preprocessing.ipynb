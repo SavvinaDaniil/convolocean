{
 "cells": [
  {
   "cell_type": "code",
   "execution_count": 1,
   "metadata": {},
   "outputs": [],
   "source": [
    "import pickle\n",
    "from PIL import Image\n",
    "\n",
    "train_path = \"/Users/dpap/Documents/UvA/AML/Assignments/Kaggle/pickle/\"\n",
    "test_path = \"/Users/dpap/Documents/UvA/AML/Assignments/Kaggle/pickle/\""
   ]
  },
  {
   "cell_type": "code",
   "execution_count": 2,
   "metadata": {},
   "outputs": [],
   "source": [
    "#train_img = pickle.load(open(train_path+\"train_img.pkl\",\"rb\"))\n",
    "test_img = pickle.load(open(train_path+\"test_img.pkl\",\"rb\"))"
   ]
  },
  {
   "cell_type": "code",
   "execution_count": 4,
   "metadata": {},
   "outputs": [],
   "source": [
    "#processed_train_img = []\n",
    "processed_test_img = []\n",
    "\n",
    "size = 64\n",
    "#for image in train_img:\n",
    "#    processed_train_img.append(image.resize((size, size), Image.ANTIALIAS))\n",
    "for i in test_img:\n",
    "    processed_test_img.append(i.resize((size, size), Image.ANTIALIAS))"
   ]
  },
  {
   "cell_type": "code",
   "execution_count": 5,
   "metadata": {},
   "outputs": [],
   "source": [
    "#pickle.dump( processed_train_img, open( train_path+\"processed_train_images.pkl\", \"wb\" ) )\n",
    "pickle.dump( processed_test_img, open( test_path+\"processed_test_images.pkl\", \"wb\" ) )"
   ]
  },
  {
   "cell_type": "code",
   "execution_count": null,
   "metadata": {},
   "outputs": [],
   "source": []
  }
 ],
 "metadata": {
  "kernelspec": {
   "display_name": "Python 3",
   "language": "python",
   "name": "python3"
  },
  "language_info": {
   "codemirror_mode": {
    "name": "ipython",
    "version": 3
   },
   "file_extension": ".py",
   "mimetype": "text/x-python",
   "name": "python",
   "nbconvert_exporter": "python",
   "pygments_lexer": "ipython3",
   "version": "3.6.5"
  }
 },
 "nbformat": 4,
 "nbformat_minor": 2
}
